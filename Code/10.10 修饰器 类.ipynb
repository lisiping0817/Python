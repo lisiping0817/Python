{
 "cells": [
  {
   "cell_type": "markdown",
   "metadata": {},
   "source": [
    "### 修饰器（decorator）"
   ]
  },
  {
   "cell_type": "code",
   "execution_count": 4,
   "metadata": {},
   "outputs": [
    {
     "name": "stdout",
     "output_type": "stream",
     "text": [
      "谢邀\n",
      "我也不知道\n",
      "以上\n",
      "\n",
      "\n",
      "谢邀\n",
      "i am happy\n",
      "以上\n"
     ]
    }
   ],
   "source": [
    "def zhihu(func):   #接受一个函数参数传入 等于answer1()\n",
    "    def wrapper():\n",
    "        print(\"谢邀\")\n",
    "        func()\n",
    "        print(\"以上\")\n",
    "        \n",
    "    return wrapper\n",
    "        \n",
    "\n",
    "@zhihu      #等价于 answer1 = zhihu(answer1)\n",
    "def answer1():\n",
    "    print(\"我也不知道\")\n",
    "    \n",
    "    \n",
    "@zhihu   \n",
    "def answer2():\n",
    "    print(\"i am happy\")\n",
    "            \n",
    "answer1()  #调用函数\n",
    "print(\"\\n\")\n",
    "answer2()"
   ]
  },
  {
   "cell_type": "code",
   "execution_count": 12,
   "metadata": {},
   "outputs": [
    {
     "name": "stdout",
     "output_type": "stream",
     "text": [
      "black\n",
      "5288\n",
      "hello\n"
     ]
    }
   ],
   "source": [
    "class Phone():\n",
    "    def __init__(self):   #self 就是实例化本身 即iphone7\n",
    "        self.name = \"iphone\"\n",
    "        self.color = \"black\"\n",
    "        self.price = 5288\n",
    "    def call(self):\n",
    "        return 'hello'\n",
    "    \n",
    "iphone7 = Phone() #实例化对象\n",
    "\n",
    "print(iphone7.color)\n",
    "print(iphone7.price)\n",
    "print(iphone7.call())   #iphone7.call()等价于 Phone.call(iphone7)\n"
   ]
  },
  {
   "cell_type": "code",
   "execution_count": 21,
   "metadata": {},
   "outputs": [
    {
     "name": "stdout",
     "output_type": "stream",
     "text": [
      "喂喂喂\n"
     ]
    }
   ],
   "source": [
    "class Phone():\n",
    "    shape = \"rectangle\"     #实例属性和类属性区别 \n",
    "    def __init__(self,name,color,price):\n",
    "        self.name = name\n",
    "        self.color = color\n",
    "        self.price = price\n",
    "        \n",
    "    @classmethod\n",
    "    def call(self):   #类属性 修饰器举例\n",
    "        return \"喂喂喂\"\n",
    "    \n",
    "    def print_p(self):\n",
    "        return '{},{},{}'.format(self.name,self.color,self.price)\n",
    "\n",
    "xiaomi = Phone(\"小米\",\"黑色\",1999)\n",
    "\n",
    "#xiaomi.print_p()   #会打印结果\n",
    "\n",
    "print(Phone.call())\n",
    "\n",
    "#print(Phone.shape) 类属性只能这样调用 或者在函数前加修饰器 @classmethod 而实例属性都可调用"
   ]
  },
  {
   "cell_type": "markdown",
   "metadata": {},
   "source": [
    "#### 字典dic基本操作"
   ]
  },
  {
   "cell_type": "code",
   "execution_count": 22,
   "metadata": {},
   "outputs": [],
   "source": [
    "a = {'zhangsan':175,'lisi':178}  #创建字典"
   ]
  },
  {
   "cell_type": "code",
   "execution_count": 23,
   "metadata": {},
   "outputs": [
    {
     "data": {
      "text/plain": [
       "178"
      ]
     },
     "execution_count": 23,
     "metadata": {},
     "output_type": "execute_result"
    }
   ],
   "source": [
    "a ['lisi']   #取字典的value"
   ]
  },
  {
   "cell_type": "code",
   "execution_count": 24,
   "metadata": {},
   "outputs": [],
   "source": [
    "a ['wangwu']=180  #添加一个key value对"
   ]
  },
  {
   "cell_type": "code",
   "execution_count": 25,
   "metadata": {},
   "outputs": [
    {
     "data": {
      "text/plain": [
       "{'zhangsan': 175, 'lisi': 178, 'wangwu': 180}"
      ]
     },
     "execution_count": 25,
     "metadata": {},
     "output_type": "execute_result"
    }
   ],
   "source": [
    "a #添加后的dic"
   ]
  },
  {
   "cell_type": "code",
   "execution_count": 26,
   "metadata": {},
   "outputs": [],
   "source": [
    "a ['wangwu']=188 #修改key value对"
   ]
  },
  {
   "cell_type": "code",
   "execution_count": 27,
   "metadata": {},
   "outputs": [
    {
     "data": {
      "text/plain": [
       "{'zhangsan': 175, 'lisi': 178, 'wangwu': 188}"
      ]
     },
     "execution_count": 27,
     "metadata": {},
     "output_type": "execute_result"
    }
   ],
   "source": [
    "a   "
   ]
  },
  {
   "cell_type": "code",
   "execution_count": 28,
   "metadata": {},
   "outputs": [],
   "source": [
    "del a ['lisi']  #删除其中一项"
   ]
  },
  {
   "cell_type": "code",
   "execution_count": 29,
   "metadata": {},
   "outputs": [
    {
     "data": {
      "text/plain": [
       "{'zhangsan': 175, 'wangwu': 188}"
      ]
     },
     "execution_count": 29,
     "metadata": {},
     "output_type": "execute_result"
    }
   ],
   "source": [
    "a"
   ]
  },
  {
   "cell_type": "code",
   "execution_count": 32,
   "metadata": {},
   "outputs": [
    {
     "data": {
      "text/plain": [
       "'xiao 18'"
      ]
     },
     "execution_count": 32,
     "metadata": {},
     "output_type": "execute_result"
    }
   ],
   "source": [
    "name = 'xiao '\n",
    "age = 18\n",
    "name +str(age)   #age为数字 需转换 否则报错"
   ]
  },
  {
   "cell_type": "code",
   "execution_count": 34,
   "metadata": {},
   "outputs": [
    {
     "data": {
      "text/plain": [
       "'xiaohong 18'"
      ]
     },
     "execution_count": 34,
     "metadata": {},
     "output_type": "execute_result"
    }
   ],
   "source": [
    "f'xiaohong {age}'  #格式化字符串"
   ]
  },
  {
   "cell_type": "code",
   "execution_count": 1,
   "metadata": {},
   "outputs": [
    {
     "name": "stdout",
     "output_type": "stream",
     "text": [
      "i am happy\n",
      "nishishui\n",
      "what iis it\n"
     ]
    }
   ],
   "source": [
    "print('i am happy')\n",
    "print('nishishui')\n",
    "print('what iis it')"
   ]
  },
  {
   "cell_type": "code",
   "execution_count": 2,
   "metadata": {},
   "outputs": [
    {
     "name": "stdout",
     "output_type": "stream",
     "text": [
      "i am happy>>>nishishui<<<what iis it"
     ]
    }
   ],
   "source": [
    "print('i am happy',end='>>>')  #与上面区别 end use  若不指定 则默认为end 里面是\\n\n",
    "print('nishishui',end='<<<')\n",
    "print('what iis it',end='')"
   ]
  },
  {
   "cell_type": "code",
   "execution_count": null,
   "metadata": {},
   "outputs": [],
   "source": []
  }
 ],
 "metadata": {
  "kernelspec": {
   "display_name": "Python 3",
   "language": "python",
   "name": "python3"
  },
  "language_info": {
   "codemirror_mode": {
    "name": "ipython",
    "version": 3
   },
   "file_extension": ".py",
   "mimetype": "text/x-python",
   "name": "python",
   "nbconvert_exporter": "python",
   "pygments_lexer": "ipython3",
   "version": "3.6.5"
  }
 },
 "nbformat": 4,
 "nbformat_minor": 2
}
