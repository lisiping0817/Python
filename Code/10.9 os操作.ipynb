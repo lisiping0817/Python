{
 "cells": [
  {
   "cell_type": "code",
   "execution_count": 1,
   "metadata": {},
   "outputs": [],
   "source": [
    "import os "
   ]
  },
  {
   "cell_type": "markdown",
   "metadata": {},
   "source": [
    "### 快捷键记录\n",
    "tab 缩进 代码补全  \n",
    "shift +tab 查看文档  \n",
    "CTRL + z 撤销删除  \n",
    "CTRL +？ 注释功能  \n",
    "CTRL + home 快速转到首个cell  \n",
    "CTRL + end 快速转到最后一个cell   "
   ]
  },
  {
   "cell_type": "code",
   "execution_count": 2,
   "metadata": {},
   "outputs": [
    {
     "name": "stdout",
     "output_type": "stream",
     "text": [
      "['.ipynb_checkpoints', '10.10.ipynb', '10.8.ipynb', '10.9.ipynb', 'bricks_sq.jpg', 'data', 'Image_Stylization.ipynb', 'NG.wu.ipynb', 'os_test', 'Pictures', 'pylab.ipynb', 'TensorFlow-Tutorials-master', 'test.txt', 'testcode.ipynb', 'tf.shape and a.get_shape.ipynb']\n"
     ]
    }
   ],
   "source": [
    "filenames = os.listdir(r'C:\\Users\\天神\\python code')  #获取当前文件夹所有文件名称\n",
    "print(filenames)"
   ]
  },
  {
   "cell_type": "code",
   "execution_count": 12,
   "metadata": {},
   "outputs": [],
   "source": [
    "label_map = {'cat':0,'dog':1, 'bat':2}\n",
    "\n",
    "\n",
    "\n",
    "with open('data.txt','w') as f:\n",
    "    for root, dirs, files in os.walk(r'C:\\Users\\天神\\python code\\data'):   \n",
    "        for filename in files:\n",
    "            filepath = os.sep.join([root,filename]) #获得文件完整路径\n",
    "            dirname = root.split(os.sep)[-1] #获取当前文件夹名称\n",
    "            label = label_map[dirname]  #得到标签\n",
    "            line = '{},{}\\n'.format(filepath,label)\n",
    "            f.write(line)    #写入文件\n",
    "        \n",
    "    \n",
    "\n",
    "    \n",
    "   \n",
    "    \n",
    "    \n",
    "    \n",
    "                    \n",
    "\n",
    "    \n",
    "    "
   ]
  },
  {
   "cell_type": "code",
   "execution_count": 8,
   "metadata": {},
   "outputs": [
    {
     "name": "stdout",
     "output_type": "stream",
     "text": [
      "('C:\\\\Users\\\\天神\\\\python code\\\\ostest', ['demo'], ['bricks_sq.jpg', 'message.txt'])\n",
      "('C:\\\\Users\\\\天神\\\\python code\\\\ostest\\\\demo', [], ['are.txt', 'so.txt', 'you.txt'])\n"
     ]
    }
   ],
   "source": [
    "import os \n",
    "path = os.walk(r'C:\\Users\\天神\\python code\\ostest')\n",
    "for p in path:\n",
    "    print(p)    #返回两个元组 （dirpath字符串，dirnames列表，filenames列表）\n",
    "                 #（当前遍历的路径，当前目录包含的子目录，当前路径包含的文件）"
   ]
  },
  {
   "cell_type": "code",
   "execution_count": 28,
   "metadata": {},
   "outputs": [
    {
     "name": "stdout",
     "output_type": "stream",
     "text": [
      "【 C:\\Users\\天神\\python code\\ostest 】目录下包含的文件和目录： \n",
      "C:\\Users\\天神\\python code\\ostest\\demo\n",
      "\t C:\\Users\\天神\\python code\\ostest\\bricks_sq.jpg\n",
      "\t C:\\Users\\天神\\python code\\ostest\\message.txt\n",
      "\t C:\\Users\\天神\\python code\\ostest\\demo\\are.txt\n",
      "\t C:\\Users\\天神\\python code\\ostest\\demo\\so.txt\n",
      "\t C:\\Users\\天神\\python code\\ostest\\demo\\you.txt\n"
     ]
    }
   ],
   "source": [
    "path = r'C:\\Users\\天神\\python code\\ostest'\n",
    "print(\"【\",path,\"】目录下包含的文件和目录： \")#打印细节\n",
    "for root,dirs,files in os.walk(path,topdown = True):  #指定遍历目录\n",
    "    for name1 in dirs:\n",
    "        print(os.path.join(root,name1)) #输出遍历到的目录\n",
    "    for name2 in files:\n",
    "        print('\\t',os.path.join(root,name2))#输出遍历到的文件"
   ]
  },
  {
   "cell_type": "code",
   "execution_count": 33,
   "metadata": {},
   "outputs": [
    {
     "name": "stdout",
     "output_type": "stream",
     "text": [
      "C:\\Users\\天神\\python code\\ostest\n",
      "['demo']\n",
      "['bricks_sq.jpg', 'message.txt']\n",
      "------------------------------\n",
      "C:\\Users\\天神\\python code\\ostest\\demo\n",
      "[]\n",
      "['are.txt', 'so.txt', 'you.txt']\n",
      "------------------------------\n"
     ]
    }
   ],
   "source": [
    "path = r'C:\\Users\\天神\\python code\\ostest'\n",
    "for root,dirs,files in os.walk(path,topdown = True):  #理解上下区别\n",
    "    print(root)\n",
    "    print(dirs)\n",
    "    print(files)\n",
    "    \n",
    "    \n",
    "    print(\"------------------------------\")\n"
   ]
  },
  {
   "cell_type": "code",
   "execution_count": 29,
   "metadata": {},
   "outputs": [
    {
     "data": {
      "text/plain": [
       "'nt'"
      ]
     },
     "execution_count": 29,
     "metadata": {},
     "output_type": "execute_result"
    }
   ],
   "source": [
    "import os \n",
    "os.name "
   ]
  },
  {
   "cell_type": "code",
   "execution_count": 30,
   "metadata": {},
   "outputs": [
    {
     "data": {
      "text/plain": [
       "'\\r\\n'"
      ]
     },
     "execution_count": 30,
     "metadata": {},
     "output_type": "execute_result"
    }
   ],
   "source": [
    "os.linesep #获取换行符"
   ]
  },
  {
   "cell_type": "code",
   "execution_count": 31,
   "metadata": {},
   "outputs": [
    {
     "data": {
      "text/plain": [
       "'\\\\'"
      ]
     },
     "execution_count": 31,
     "metadata": {},
     "output_type": "execute_result"
    }
   ],
   "source": [
    "os.sep #获取分割符"
   ]
  },
  {
   "cell_type": "code",
   "execution_count": 32,
   "metadata": {},
   "outputs": [
    {
     "data": {
      "text/plain": [
       "'C:\\\\Users\\\\天神\\\\python code'"
      ]
     },
     "execution_count": 32,
     "metadata": {},
     "output_type": "execute_result"
    }
   ],
   "source": [
    "os.getcwd() "
   ]
  },
  {
   "cell_type": "code",
   "execution_count": 34,
   "metadata": {},
   "outputs": [
    {
     "data": {
      "text/plain": [
       "'E\\\\python\\\\demo\\\\test.txt'"
      ]
     },
     "execution_count": 34,
     "metadata": {},
     "output_type": "execute_result"
    }
   ],
   "source": [
    "os.path.join(r'E\\python',r'demo\\test.txt') #拼接目录 不判断目录是否存在"
   ]
  },
  {
   "cell_type": "code",
   "execution_count": 35,
   "metadata": {},
   "outputs": [
    {
     "data": {
      "text/plain": [
       "False"
      ]
     },
     "execution_count": 35,
     "metadata": {},
     "output_type": "execute_result"
    }
   ],
   "source": [
    "os.path.exists(r'E\\python') #判断目录或文件是否存在 返回true or flase"
   ]
  },
  {
   "cell_type": "code",
   "execution_count": 36,
   "metadata": {},
   "outputs": [
    {
     "data": {
      "text/plain": [
       "True"
      ]
     },
     "execution_count": 36,
     "metadata": {},
     "output_type": "execute_result"
    }
   ],
   "source": [
    "os.path.exists(r'C:\\Users\\天神\\python code\\ostest')"
   ]
  },
  {
   "cell_type": "code",
   "execution_count": 40,
   "metadata": {},
   "outputs": [
    {
     "name": "stdout",
     "output_type": "stream",
     "text": [
      "该目录已存在\n"
     ]
    }
   ],
   "source": [
    "if not os.path.exists(r'C:\\Users\\天神\\python code\\ostest\\demo'):  #创建目录\n",
    "    os.mkdir(r'C:\\Users\\天神\\python code\\ostest\\demo')\n",
    "else:\n",
    "    print(\"该目录已存在\")"
   ]
  },
  {
   "cell_type": "code",
   "execution_count": 41,
   "metadata": {},
   "outputs": [],
   "source": [
    "def mkdir1(path):  #创建一个递归函数用于创建目录\n",
    "    if not os.path.isdir(path): #判断是否为路径\n",
    "        mkdir1(os.path.split(path)[0])\n",
    "    else:\n",
    "        return\n",
    "    os.mkdir(path) #创建目录\n",
    "mkdir1(r'C:\\Users\\天神\\python code\\ostest\\demo\\test\\good')    "
   ]
  },
  {
   "cell_type": "code",
   "execution_count": 42,
   "metadata": {},
   "outputs": [],
   "source": [
    "os.makedirs(r'C:\\Users\\天神\\python code\\ostest\\demo\\test1\\good')    #和上文一样 内置方法 简便方法"
   ]
  },
  {
   "cell_type": "code",
   "execution_count": 44,
   "metadata": {},
   "outputs": [
    {
     "name": "stdout",
     "output_type": "stream",
     "text": [
      "目录不存在\n"
     ]
    }
   ],
   "source": [
    "if os.path.exists(r'C:\\Users\\天神\\python code\\ostest\\demo\\test1\\good'):\n",
    "    os.rmdir(r'C:\\Users\\天神\\python code\\ostest\\demo\\test1\\good')    #删除空目录（不为空会报错） \n",
    "    print(\"目录删除成功\")                                         #删除不为空的目录需import shutil 调用shutil.retree()\n",
    "else:\n",
    "    print(\"目录不存在\")"
   ]
  },
  {
   "cell_type": "code",
   "execution_count": 48,
   "metadata": {},
   "outputs": [
    {
     "name": "stdout",
     "output_type": "stream",
     "text": [
      "文件不存在\n"
     ]
    }
   ],
   "source": [
    "if os.path.exists(r'C:\\Users\\天神\\python code\\ostest\\message.txt'):  #可以先判断\n",
    "    os.remove(r'C:\\Users\\天神\\python code\\ostest\\message.txt')     #删除文件操作\n",
    "else:\n",
    "    print(\"文件不存在\")"
   ]
  },
  {
   "cell_type": "code",
   "execution_count": 49,
   "metadata": {},
   "outputs": [],
   "source": [
    "scr = r\"C:\\Users\\天神\\python code\\ostest\"\n",
    "dst = r\"C:\\Users\\天神\\python code\\os_test\"\n",
    "os.rename(scr,dst)  #可重命名目录或文件  也可以添加一个判断语句 if os.path.exists（） 且重命名目录只能操作最后一级目录"
   ]
  },
  {
   "cell_type": "code",
   "execution_count": 6,
   "metadata": {},
   "outputs": [
    {
     "name": "stdout",
     "output_type": "stream",
     "text": [
      "文件完整路径:   C:\\Users\\天神\\python code\\bricks_sq.jpg\n",
      "索引号:  9007199254793907\n",
      "设备名:  3834183838\n",
      "文件大小:  30.89 KB\n",
      "最后一次访问时间:  2018-10-09 22:09:04\n",
      "最后一次修改时间:  2018-09-25 15:38:26\n",
      "最后一次状态变化时间:  2018-10-09 22:08:08\n"
     ]
    }
   ],
   "source": [
    "def formatTime(longtime):\n",
    "    \"\"\"格式化时间的函数\"\"\"\n",
    "    import time \n",
    "    return time.strftime(\"%Y-%m-%d %H:%M:%S\",time.localtime(longtime))\n",
    "\n",
    "def formatByte(number):\n",
    "    \"\"\"格式化文件大小的函数\"\"\"\n",
    "    for(scale,label)in [(1024*1024*1024,\"GB\"),(1024*1024,\"MB\"),(1024,\"KB\")]:\n",
    "        if number>=scale:\n",
    "            return \"%.2f %s\" %(number*1.0/scale,label)\n",
    "        elif number ==1:\n",
    "            return \"1字节\"\n",
    "        else:\n",
    "            byte = \"%.2f\" %(number or 0)\n",
    "    return (byte[:-3] if byte.endswith('.00')else byte)+\"字节\"\n",
    "    \n",
    "    \n",
    "    \n",
    "fileinfo = os.stat(\"bricks_sq.jpg\") #获取文件的基本信息\n",
    "print(\"文件完整路径:  \",os.path.abspath(\"bricks_sq.jpg\"))\n",
    "print('索引号: ',fileinfo.st_ino)\n",
    "print('设备名: ',fileinfo.st_dev)\n",
    "print('文件大小: ',formatByte(fileinfo.st_size))\n",
    "print('最后一次访问时间: ',formatTime(fileinfo.st_atime))\n",
    "print('最后一次修改时间: ',formatTime(fileinfo.st_mtime))\n",
    "print('最后一次状态变化时间: ',formatTime(fileinfo.st_ctime))\n",
    "\n",
    "\n",
    "\n",
    "\n"
   ]
  },
  {
   "cell_type": "code",
   "execution_count": null,
   "metadata": {},
   "outputs": [],
   "source": []
  }
 ],
 "metadata": {
  "kernelspec": {
   "display_name": "Python 3",
   "language": "python",
   "name": "python3"
  },
  "language_info": {
   "codemirror_mode": {
    "name": "ipython",
    "version": 3
   },
   "file_extension": ".py",
   "mimetype": "text/x-python",
   "name": "python",
   "nbconvert_exporter": "python",
   "pygments_lexer": "ipython3",
   "version": "3.6.5"
  }
 },
 "nbformat": 4,
 "nbformat_minor": 2
}
