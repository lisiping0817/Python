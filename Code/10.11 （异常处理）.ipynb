{
 "cells": [
  {
   "cell_type": "markdown",
   "metadata": {},
   "source": [
    "### 异常处理记录"
   ]
  },
  {
   "cell_type": "code",
   "execution_count": 1,
   "metadata": {},
   "outputs": [
    {
     "ename": "ZeroDivisionError",
     "evalue": "division by zero",
     "output_type": "error",
     "traceback": [
      "\u001b[1;31m---------------------------------------------------------------------------\u001b[0m",
      "\u001b[1;31mZeroDivisionError\u001b[0m                         Traceback (most recent call last)",
      "\u001b[1;32m<ipython-input-1-2fc232d1511a>\u001b[0m in \u001b[0;36m<module>\u001b[1;34m()\u001b[0m\n\u001b[1;32m----> 1\u001b[1;33m \u001b[0mprint\u001b[0m\u001b[1;33m(\u001b[0m\u001b[1;36m1\u001b[0m\u001b[1;33m/\u001b[0m\u001b[1;36m0\u001b[0m\u001b[1;33m)\u001b[0m\u001b[1;33m\u001b[0m\u001b[0m\n\u001b[0m",
      "\u001b[1;31mZeroDivisionError\u001b[0m: division by zero"
     ]
    }
   ],
   "source": [
    "print(1/0)  #异常问题"
   ]
  },
  {
   "cell_type": "code",
   "execution_count": 3,
   "metadata": {},
   "outputs": [
    {
     "name": "stdout",
     "output_type": "stream",
     "text": [
      "除数不能为0：  division by zero\n"
     ]
    }
   ],
   "source": [
    "try:\n",
    "    print(1/0)\n",
    "except ZeroDivisionError as e:   #捕获异常\n",
    "    print(\"除数不能为0： \", e)\n",
    "else:\n",
    "    print(\"程序运行一次\")"
   ]
  },
  {
   "cell_type": "code",
   "execution_count": 4,
   "metadata": {},
   "outputs": [
    {
     "name": "stdout",
     "output_type": "stream",
     "text": [
      "1.0\n",
      "程序运行一次\n"
     ]
    }
   ],
   "source": [
    "try:\n",
    "    print(1/1)\n",
    "except ZeroDivisionError as e: \n",
    "    print(\"除数不能为0： \", e)\n",
    "else:\n",
    "    print(\"程序运行一次\")             #程序正常运行else才会输出"
   ]
  },
  {
   "cell_type": "code",
   "execution_count": 5,
   "metadata": {},
   "outputs": [
    {
     "name": "stdout",
     "output_type": "stream",
     "text": [
      "除数不能为0：  division by zero\n",
      "程序运行结束\n"
     ]
    }
   ],
   "source": [
    "try:\n",
    "    print(1/0)\n",
    "except ZeroDivisionError as e:\n",
    "    print(\"除数不能为0： \", e)\n",
    "finally:\n",
    "    print(\"程序运行结束\")   #finally无论如何都会输出"
   ]
  },
  {
   "cell_type": "markdown",
   "metadata": {},
   "source": [
    "###  列表推导式（列表生成式）\n",
    " 快速生成列表"
   ]
  },
  {
   "cell_type": "code",
   "execution_count": 7,
   "metadata": {},
   "outputs": [
    {
     "name": "stdout",
     "output_type": "stream",
     "text": [
      "[29, 93, 26, 12, 88, 86, 30, 12, 46, 67]\n"
     ]
    }
   ],
   "source": [
    "import random   #常规操作\n",
    "list1 =[]\n",
    "for i in range(10):\n",
    "    list1.append(random.randint(10,100))\n",
    "print(list1)"
   ]
  },
  {
   "cell_type": "code",
   "execution_count": 11,
   "metadata": {},
   "outputs": [
    {
     "name": "stdout",
     "output_type": "stream",
     "text": [
      "[15, 74, 21, 98, 56, 44, 99, 30, 15, 12]\n"
     ]
    }
   ],
   "source": [
    "import random   #快速操作\n",
    "list2 =[random.randint(10,100) for i in range(10)]  #中间不需要加逗号\n",
    "print(list2)"
   ]
  },
  {
   "cell_type": "code",
   "execution_count": 13,
   "metadata": {},
   "outputs": [
    {
     "name": "stdout",
     "output_type": "stream",
     "text": [
      "[4, 16, 36, 64, 100]\n"
     ]
    }
   ],
   "source": [
    "list3 = [i*i for i in range(2,11,2)] #例子\n",
    "print(list3)"
   ]
  },
  {
   "cell_type": "code",
   "execution_count": 15,
   "metadata": {},
   "outputs": [
    {
     "name": "stdout",
     "output_type": "stream",
     "text": [
      "[500, 262, 400, 333, 444]\n"
     ]
    }
   ],
   "source": [
    "price = [1000,525,800,666,888] #根据列表生成满足的列表\n",
    "sale = [int(x*0.5) for x in price]\n",
    "print(sale)"
   ]
  },
  {
   "cell_type": "code",
   "execution_count": 20,
   "metadata": {},
   "outputs": [
    {
     "name": "stdout",
     "output_type": "stream",
     "text": [
      "[1000, 800, 666, 888]\n"
     ]
    }
   ],
   "source": [
    "price = [1000,525,800,666,888]\n",
    "sale = [x for x in price if x>600]  #加入条件\n",
    "print(sale)"
   ]
  },
  {
   "cell_type": "markdown",
   "metadata": {},
   "source": [
    "### 元组推导式"
   ]
  },
  {
   "cell_type": "code",
   "execution_count": 23,
   "metadata": {},
   "outputs": [
    {
     "name": "stdout",
     "output_type": "stream",
     "text": [
      "<generator object <genexpr> at 0x0000027E2D2E7150>\n",
      "(75, 47, 52, 31, 85, 95, 70, 58, 100, 34)\n"
     ]
    }
   ],
   "source": [
    "import random\n",
    "number = (random.randint(10,100) for i in range (10))\n",
    "print(number) #直接打印将是一个生成器\n",
    "print(tuple(number)) #需要使用tuple转换"
   ]
  },
  {
   "cell_type": "code",
   "execution_count": 27,
   "metadata": {},
   "outputs": [
    {
     "name": "stdout",
     "output_type": "stream",
     "text": [
      "('蓝山', '哥伦比亚', 'happy', '维也纳')\n"
     ]
    }
   ],
   "source": [
    "coffe = ('蓝山','哥伦比亚','happy')  # 元组不能任意修改 修改用以下例子\n",
    "caffe = (\"维也纳\",)   #元组与字符串核心区别在于逗号\n",
    "allin = coffe + caffe\n",
    "print(allin)"
   ]
  },
  {
   "cell_type": "markdown",
   "metadata": {},
   "source": [
    "### 字典推导式"
   ]
  },
  {
   "cell_type": "code",
   "execution_count": 29,
   "metadata": {},
   "outputs": [
    {
     "name": "stdout",
     "output_type": "stream",
     "text": [
      "{1: 87, 2: 50, 3: 78, 4: 55}\n"
     ]
    }
   ],
   "source": [
    "import random     #字典推导式\n",
    "dic1={i:random.randint(10,100) for i in range(1,5)}\n",
    "print(dic1)"
   ]
  },
  {
   "cell_type": "code",
   "execution_count": 32,
   "metadata": {},
   "outputs": [
    {
     "name": "stdout",
     "output_type": "stream",
     "text": [
      "{'i': 1, 'am': 2, 'happy': 3, 'now': 4}\n"
     ]
    }
   ],
   "source": [
    "name = [\"i\",'am','happy','now']  #字典推导式2\n",
    "sign = [1,2,3,4]\n",
    "dic2 = {i:j for i,j in zip(name,sign)}\n",
    "print(dic2)"
   ]
  },
  {
   "cell_type": "markdown",
   "metadata": {},
   "source": [
    "### 格式化字符串"
   ]
  },
  {
   "cell_type": "code",
   "execution_count": 33,
   "metadata": {},
   "outputs": [
    {
     "name": "stdout",
     "output_type": "stream",
     "text": [
      "编号:000000007\t公司名称：百度 \t 官网：http://www.baidu.com\n"
     ]
    }
   ],
   "source": [
    "template = '编号:%09d\\t公司名称：%s \\t 官网：http://www.%s.com' #定义一个模板\n",
    "item = (7,'百度','baidu') #转换内容\n",
    "print(template %item)\n"
   ]
  },
  {
   "cell_type": "code",
   "execution_count": 37,
   "metadata": {},
   "outputs": [
    {
     "name": "stdout",
     "output_type": "stream",
     "text": [
      "编号:000000007\t公司名称：百度 \t 官网：http://www.baidu.com\n"
     ]
    }
   ],
   "source": [
    "template = '编号:{:0>9d}\\t公司名称：{:s} \\t 官网：http://www.{:s}.com'\n",
    "context1 = template.format(7,'百度','baidu')\n",
    "print(context1)"
   ]
  },
  {
   "cell_type": "code",
   "execution_count": null,
   "metadata": {},
   "outputs": [],
   "source": []
  }
 ],
 "metadata": {
  "kernelspec": {
   "display_name": "Python 3",
   "language": "python",
   "name": "python3"
  },
  "language_info": {
   "codemirror_mode": {
    "name": "ipython",
    "version": 3
   },
   "file_extension": ".py",
   "mimetype": "text/x-python",
   "name": "python",
   "nbconvert_exporter": "python",
   "pygments_lexer": "ipython3",
   "version": "3.6.5"
  }
 },
 "nbformat": 4,
 "nbformat_minor": 2
}
