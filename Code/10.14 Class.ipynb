{
 "cells": [
  {
   "cell_type": "code",
   "execution_count": 1,
   "metadata": {},
   "outputs": [],
   "source": [
    "class Test():\n",
    "    \"\"\"这是一个测试程序\"\"\"   # 查看类说明的两种方法 \n",
    "    pass\n"
   ]
  },
  {
   "cell_type": "code",
   "execution_count": 2,
   "metadata": {},
   "outputs": [
    {
     "data": {
      "text/plain": [
       "'这是一个测试程序'"
      ]
     },
     "execution_count": 2,
     "metadata": {},
     "output_type": "execute_result"
    }
   ],
   "source": [
    "Test.__doc__"
   ]
  },
  {
   "cell_type": "code",
   "execution_count": 3,
   "metadata": {},
   "outputs": [
    {
     "name": "stdout",
     "output_type": "stream",
     "text": [
      "Help on class Test in module __main__:\n",
      "\n",
      "class Test(builtins.object)\n",
      " |  这是一个测试程序\n",
      " |  \n",
      " |  Data descriptors defined here:\n",
      " |  \n",
      " |  __dict__\n",
      " |      dictionary for instance variables (if defined)\n",
      " |  \n",
      " |  __weakref__\n",
      " |      list of weak references to the object (if defined)\n",
      "\n"
     ]
    }
   ],
   "source": [
    "help (Test)"
   ]
  },
  {
   "cell_type": "code",
   "execution_count": 13,
   "metadata": {},
   "outputs": [
    {
     "name": "stdout",
     "output_type": "stream",
     "text": [
      "a: 0 b: 10\n",
      "a: 10 b: 10\n",
      "happy\n"
     ]
    }
   ],
   "source": [
    "class TestCss():\n",
    "    cssa = \"happy\"   #类属性\n",
    "    def __init__(self):\n",
    "        self.a = 0            \n",
    "        self.b =10   #类实例化属性\n",
    "    def info (self):\n",
    "        print('a:',self.a,'b:',self.b) \n",
    "\n",
    "        \n",
    "if __name__ =='__main__':\n",
    "    tc = TestCss()\n",
    "    tc.info()\n",
    "    tc.a = 10   #类外修改类属性 不推荐此做法\n",
    "    tc.info()\n",
    "    print(TestCss.cssa)  #类属性"
   ]
  },
  {
   "cell_type": "code",
   "execution_count": 14,
   "metadata": {},
   "outputs": [
    {
     "name": "stdout",
     "output_type": "stream",
     "text": [
      "0\n",
      "0\n",
      "3\n"
     ]
    }
   ],
   "source": [
    "class A:\n",
    "    def __init__(self):\n",
    "        self.__ab = 0      #类的私有属性\n",
    "    def info(self):\n",
    "        print(self.__ab)  \n",
    "\n",
    "        \n",
    "        \n",
    "a = A()\n",
    "a.info()\n",
    "a.__ab = 3   #这种方式在外部改不了类的私有属性\n",
    "a.info()\n",
    "print(a.__ab)  #打印上面修改的值"
   ]
  },
  {
   "cell_type": "code",
   "execution_count": 15,
   "metadata": {},
   "outputs": [
    {
     "name": "stdout",
     "output_type": "stream",
     "text": [
      "0\n",
      "3\n",
      "3\n"
     ]
    }
   ],
   "source": [
    "class A:\n",
    "    def __init__(self):\n",
    "        self._ab = 0      \n",
    "    def info(self):\n",
    "        print(self._ab)            #注意与上面程序区别\n",
    "\n",
    "        \n",
    "        \n",
    "a = A()\n",
    "a.info()\n",
    "a._ab = 3   #可以修改\n",
    "a.info()\n",
    "print(a._ab)"
   ]
  },
  {
   "cell_type": "code",
   "execution_count": 16,
   "metadata": {},
   "outputs": [
    {
     "name": "stdout",
     "output_type": "stream",
     "text": [
      "0\n",
      "3\n",
      "3\n"
     ]
    }
   ],
   "source": [
    "class A:\n",
    "    def __init__(self):\n",
    "        self.__ab = 0      #类的私有属性\n",
    "    def info(self):\n",
    "        print(self.__ab)  \n",
    "\n",
    "        \n",
    "        \n",
    "a = A()\n",
    "a.info()\n",
    "a._A__ab = 3   #这种方式可以强制修改类的私有属性   强烈不建议\n",
    "a.info()\n",
    "print(a._A__ab)"
   ]
  },
  {
   "cell_type": "code",
   "execution_count": 17,
   "metadata": {},
   "outputs": [
    {
     "name": "stdout",
     "output_type": "stream",
     "text": [
      "Add water: 10\n",
      "Add scour: 2\n",
      "statr wash...\n"
     ]
    }
   ],
   "source": [
    "class Washer:\n",
    "    def __init__(self):\n",
    "        self.water = 0\n",
    "        self.scour = 0\n",
    "        \n",
    "    def add_water(self,water):    #添加水量\n",
    "        print('Add water:',water)\n",
    "        self.water = water\n",
    "        \n",
    "    def add_scour(self,scour):\n",
    "        self.scour = scour\n",
    "        print('Add scour:',scour)\n",
    "        \n",
    "    def start_wash(self):\n",
    "        print('statr wash...')\n",
    "        \n",
    "        \n",
    "        \n",
    "if __name__ =='__main__':\n",
    "    w = Washer()\n",
    "    w.add_water(10)\n",
    "    w.add_scour(2)\n",
    "    w.start_wash()"
   ]
  },
  {
   "cell_type": "code",
   "execution_count": 19,
   "metadata": {},
   "outputs": [
    {
     "name": "stdout",
     "output_type": "stream",
     "text": [
      "Add water: 10\n",
      "Add scour: 2\n",
      "statr wash...\n"
     ]
    }
   ],
   "source": [
    "class Washer:\n",
    "    def __init__(self):\n",
    "        self.water = 0\n",
    "        self.scour = 0\n",
    "        \n",
    "    def set_water(self,water):\n",
    "        self.water = water\n",
    "        \n",
    "    def set_scour(self,scour):\n",
    "        self.scour = scour\n",
    "        \n",
    "    def add_water(self):\n",
    "        print('Add water:',self.water)\n",
    "        \n",
    "    def add_scour(self):\n",
    "        \n",
    "        print('Add scour:',self.scour)\n",
    "    def start_wash(self):\n",
    "        self.add_water()    #类内函数的相互调用   注意与外部调用的方式区别 一个用self 一个用实例名字\n",
    "        self.add_scour()\n",
    "        print('statr wash...')\n",
    "        \n",
    "        \n",
    "        \n",
    "if __name__ =='__main__':\n",
    "    w = Washer()\n",
    "    w.set_water(10)  \n",
    "    w.set_scour(2)\n",
    "    w.start_wash()"
   ]
  },
  {
   "cell_type": "code",
   "execution_count": 21,
   "metadata": {},
   "outputs": [
    {
     "name": "stdout",
     "output_type": "stream",
     "text": [
      "Add water: 20\n",
      "Add scour: 5\n",
      "statr wash...\n"
     ]
    }
   ],
   "source": [
    "class Washer:\n",
    "    def __init__(self):            #可理解为设置为标准模式\n",
    "        self.water = 20\n",
    "        self.scour = 5\n",
    "        \n",
    "    def set_water(self,water):\n",
    "        self.water = water\n",
    "        \n",
    "    def set_scour(self,scour):\n",
    "        self.scour = scour\n",
    "        \n",
    "    def add_water(self):\n",
    "        print('Add water:',self.water)\n",
    "        \n",
    "    def add_scour(self):\n",
    "        \n",
    "        print('Add scour:',self.scour)\n",
    "    def start_wash(self):\n",
    "        self.add_water()\n",
    "        self.add_scour()\n",
    "        print('statr wash...')\n",
    "        \n",
    "        \n",
    "        \n",
    "if __name__ =='__main__':\n",
    "    w = Washer()\n",
    "#     w.set_water(10)  \n",
    "#     w.set_scour(2)\n",
    "    w.start_wash()"
   ]
  },
  {
   "cell_type": "code",
   "execution_count": 25,
   "metadata": {},
   "outputs": [
    {
     "name": "stdout",
     "output_type": "stream",
     "text": [
      "Add water: 10\n",
      "Add scour: 2\n",
      "statr wash...\n",
      "Add water: 100\n",
      "Add scour: 20\n",
      "statr wash...\n",
      "Add water: 50\n",
      "Add scour: 5\n",
      "statr wash...\n"
     ]
    }
   ],
   "source": [
    "class Washer:\n",
    "    def __init__(self,water =10,scour=2):            #设置构造函数\n",
    "        self.water = water\n",
    "        self.scour = scour\n",
    "        \n",
    "    def set_water(self,water):\n",
    "        self.water = water\n",
    "        \n",
    "    def set_scour(self,scour):\n",
    "        self.scour = scour\n",
    "        \n",
    "    def add_water(self):\n",
    "        print('Add water:',self.water)\n",
    "        \n",
    "    def add_scour(self):\n",
    "        \n",
    "        print('Add scour:',self.scour)\n",
    "    def start_wash(self):\n",
    "        self.add_water()\n",
    "        self.add_scour()\n",
    "        print('statr wash...')\n",
    "        \n",
    "        \n",
    "        \n",
    "if __name__ =='__main__':\n",
    "    w = Washer()\n",
    "#     w.set_water(10)  #类内函数的相互调用\n",
    "#     w.set_scour(2)\n",
    "    w.start_wash()   #标准模式调用\n",
    "    wb = Washer(100,20)   #改造构造方法调用\n",
    "    wb.start_wash()\n",
    "    wb.set_water(50) #自己设置来调用                 #三种方式\n",
    "    wb.set_scour(5)\n",
    "    wb.start_wash()\n",
    "    \n",
    "    "
   ]
  },
  {
   "cell_type": "code",
   "execution_count": 26,
   "metadata": {},
   "outputs": [],
   "source": [
    "class A:\n",
    "    def __init__(self):    #提供使用字符窜操作类的属性或方法  （见以下三个函数）\n",
    "        self.a = 10\n",
    "        self.b = 20\n",
    "happy = A()    #创建实例"
   ]
  },
  {
   "cell_type": "code",
   "execution_count": 27,
   "metadata": {},
   "outputs": [
    {
     "data": {
      "text/plain": [
       "10"
      ]
     },
     "execution_count": 27,
     "metadata": {},
     "output_type": "execute_result"
    }
   ],
   "source": [
    "getattr(happy,'a') #获得a属性值"
   ]
  },
  {
   "cell_type": "code",
   "execution_count": 28,
   "metadata": {},
   "outputs": [],
   "source": [
    "setattr(happy,'a',100) #设置a属性值"
   ]
  },
  {
   "cell_type": "code",
   "execution_count": 29,
   "metadata": {},
   "outputs": [
    {
     "data": {
      "text/plain": [
       "100"
      ]
     },
     "execution_count": 29,
     "metadata": {},
     "output_type": "execute_result"
    }
   ],
   "source": [
    "getattr(happy,'a')"
   ]
  },
  {
   "cell_type": "code",
   "execution_count": 30,
   "metadata": {},
   "outputs": [
    {
     "data": {
      "text/plain": [
       "True"
      ]
     },
     "execution_count": 30,
     "metadata": {},
     "output_type": "execute_result"
    }
   ],
   "source": [
    "hasattr(happy,'a')  #判断是否有此属性"
   ]
  },
  {
   "cell_type": "code",
   "execution_count": 31,
   "metadata": {},
   "outputs": [
    {
     "data": {
      "text/plain": [
       "False"
      ]
     },
     "execution_count": 31,
     "metadata": {},
     "output_type": "execute_result"
    }
   ],
   "source": [
    "hasattr(happy,'cccc')"
   ]
  },
  {
   "cell_type": "code",
   "execution_count": null,
   "metadata": {},
   "outputs": [],
   "source": []
  }
 ],
 "metadata": {
  "kernelspec": {
   "display_name": "Python 3",
   "language": "python",
   "name": "python3"
  },
  "language_info": {
   "codemirror_mode": {
    "name": "ipython",
    "version": 3
   },
   "file_extension": ".py",
   "mimetype": "text/x-python",
   "name": "python",
   "nbconvert_exporter": "python",
   "pygments_lexer": "ipython3",
   "version": "3.6.5"
  }
 },
 "nbformat": 4,
 "nbformat_minor": 2
}
